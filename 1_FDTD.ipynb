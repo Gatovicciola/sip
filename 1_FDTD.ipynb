{
 "cells": [
  {
   "cell_type": "markdown",
   "metadata": {},
   "source": [
    "# rectangle case"
   ]
  },
  {
   "cell_type": "code",
   "execution_count": 1,
   "metadata": {},
   "outputs": [
    {
     "ename": "ModuleNotFoundError",
     "evalue": "No module named 'numpy'",
     "output_type": "error",
     "traceback": [
      "\u001b[1;31m---------------------------------------------------------------------------\u001b[0m",
      "\u001b[1;31mModuleNotFoundError\u001b[0m                       Traceback (most recent call last)",
      "Cell \u001b[1;32mIn[1], line 1\u001b[0m\n\u001b[1;32m----> 1\u001b[0m \u001b[38;5;28;01mimport\u001b[39;00m \u001b[38;5;21;01mnumpy\u001b[39;00m \u001b[38;5;28;01mas\u001b[39;00m \u001b[38;5;21;01mnp\u001b[39;00m\n\u001b[0;32m      2\u001b[0m \u001b[38;5;28;01mimport\u001b[39;00m \u001b[38;5;21;01mmatplotlib\u001b[39;00m\u001b[38;5;21;01m.\u001b[39;00m\u001b[38;5;21;01mpyplot\u001b[39;00m \u001b[38;5;28;01mas\u001b[39;00m \u001b[38;5;21;01mplt\u001b[39;00m\n\u001b[0;32m      3\u001b[0m \u001b[38;5;28;01mimport\u001b[39;00m \u001b[38;5;21;01mscipy\u001b[39;00m \u001b[38;5;28;01mas\u001b[39;00m \u001b[38;5;21;01msc\u001b[39;00m\n",
      "\u001b[1;31mModuleNotFoundError\u001b[0m: No module named 'numpy'"
     ]
    }
   ],
   "source": [
    "import numpy as np\n",
    "import matplotlib.pyplot as plt\n",
    "import scipy as sc\n",
    "import scipy.optimize as scop\n",
    "\n",
    "import math as mt\n",
    "\n",
    "#equivalence des structures en c++ =>les classes sur python\n",
    "# https://docs.python.org/fr/3/tutorial/classes.html\n",
    "\n",
    "Sx = 1 #physical size along x axis\n",
    "Sy = 1 #physical size along y axis\n",
    "\n",
    "Nx= 10 #number of cell along x\n",
    "Ny= 10 #number of cell along y\n",
    "\n",
    "#Define rectange size\n",
    "wx=0.2\n",
    "wy=0.6\n",
    "\n",
    "#Compute position indices\n",
    "dx=Sx/Nx;\n",
    "nx=round(wx/dx)\n",
    "nx1 =  mt.floor((Nx-nx)/2)\n",
    "nx2=nx1 + nx\n",
    "x=np.linspace(-0.5,0.5,Nx+1)*Sx\n",
    "xc=0\n",
    "\n",
    "dy=Sy/Ny;\n",
    "ny=round(wy/dy)\n",
    "ny1 =  mt.floor((Ny-ny)/2)\n",
    "ny2=ny1 + ny \n",
    "y=np.linspace(-0.5,0.5,Ny+1)*Sy\n",
    "yc=0.1\n",
    "\n",
    "########################################\n",
    "# Source\n",
    "# dx=Sx/Nx;\n",
    "# nx=round(wx/dx)\n",
    "# nx1 =1+  mt.floor((Nx-nx)/2)\n",
    "# nx2=nx1 + nx -1\n",
    "\n",
    "# dy=Sy/Ny;\n",
    "# ny=round(wy/dy)\n",
    "# ny1 =1+  mt.floor((Ny-ny)/2)\n",
    "# ny2=ny1 + ny -1\n",
    "\n",
    "########################################\n",
    "\n",
    "\n",
    "\n",
    "#Create A \n",
    "A=np.zeros((Nx,Ny))\n",
    "for i in range(nx1,nx2):\n",
    "    for j in range(ny1,ny2):\n",
    "        A[i,j]=1\n",
    "\n",
    "fig, ax = plt.subplots(figsize=(10, 10))\n",
    "ax.pcolormesh(x, y, A.T, edgecolors='k', linewidths=2)\n",
    "plt.grid()"
   ]
  },
  {
   "cell_type": "markdown",
   "metadata": {},
   "source": [
    "# Circle case"
   ]
  },
  {
   "cell_type": "code",
   "execution_count": null,
   "metadata": {
    "scrolled": false
   },
   "outputs": [
    {
     "data": {
      "image/png": "[encoded data removed]",
      "text/plain": [
       "<Figure size 720x720 with 1 Axes>"
      ]
     },
     "metadata": {
      "needs_background": "light"
     },
     "output_type": "display_data"
    }
   ],
   "source": [
    "\n",
    "#Compute position indices\n",
    "dx=Sx/Nx;\n",
    "xa= np.arange(Nx)*dx\n",
    "# xa= np.linspace(0,0.9,Nx)*Sx\n",
    "xa=np.linspace(0,Nx-1,Nx)*dx\n",
    "xa= xa - np.mean(xa)\n",
    "\n",
    "dy=Sy/Ny;\n",
    "ya= np.arange(Ny)*dy\n",
    "# ya= np.linspace(0,0.9,Ny)*Sy\n",
    "ya=np.linspace(0,Ny-1,Ny)*dy\n",
    "ya= ya - np.mean(ya)\n",
    "\n",
    "########################################\n",
    "#Cirle\n",
    "r=0.4\n",
    "xc=0\n",
    "yc=0.1\n",
    "[Y,X]=np.meshgrid(xa,ya)\n",
    " \n",
    "A=np.zeros((Nx,Ny))\n",
    "for i in range(np.size(xa)):\n",
    "    for j in range(np.size(ya)):\n",
    "        if ((X[i,j]-xc)**2+(Y[i,j]-yc)**2)<=r**2:\n",
    "            A[i,j]=1\n",
    "        else:\n",
    "            A[i,j]=0\n",
    "\n",
    "########################################\n",
    "\n",
    "fig, ax = plt.subplots(figsize=(10, 10))\n",
    "# ax.pcolormesh(X,Y,A)\n",
    "ax.pcolormesh(x,y,A, edgecolors='k', linewidths=2)\n",
    "plt.grid()"
   ]
  },
  {
   "cell_type": "markdown",
   "metadata": {},
   "source": [
    "# Ellipse case"
   ]
  },
  {
   "cell_type": "code",
   "execution_count": null,
   "metadata": {
    "scrolled": true
   },
   "outputs": [
    {
     "data": {
      "image/png": "[encoded data removed]",
      "text/plain": [
       "<Figure size 720x720 with 1 Axes>"
      ]
     },
     "metadata": {
      "needs_background": "light"
     },
     "output_type": "display_data"
    }
   ],
   "source": [
    "#Compute position indices\n",
    "Sx = 1 #physical size along x axis\n",
    "Sy = 1 #physical size along y axis\n",
    "\n",
    "Nx= 20 #number of cell along x\n",
    "Ny= 20 #number of cell along y\n",
    "\n",
    "\n",
    "# grid array#####\n",
    "\n",
    "\n",
    "dx=Sx/Nx;\n",
    "xa= np.arange(Nx)*dx\n",
    "# xa=np.linspace(0,Nx-1,Nx)*dx\n",
    "xa= xa - np.mean(xa)\n",
    "x=np.linspace(-0.5,0.5,Nx+1)*Sx\n",
    "\n",
    "dy=Sy/Ny;\n",
    "ya= np.arange(Ny)*dy\n",
    "# ya=np.linspace(0,Ny-1,Ny)*dy\n",
    "ya= ya - np.mean(ya)\n",
    "y=np.linspace(-0.5,0.5,Ny+1)*Sy\n",
    "########################################\n",
    "#ellipse\n",
    "xc=0\n",
    "yc=0.05\n",
    "rx=0.25\n",
    "ry=0.2\n",
    "[Y,X]=np.meshgrid(xa,ya)\n",
    "\n",
    "A=np.zeros((Nx,Ny))\n",
    "for i in range(np.size(xa)):\n",
    "    for j in range(np.size(ya)):\n",
    "        if (((X[i,j]-xc)/rx)**2+((Y[i,j]-yc)/ry)**2)<=1:\n",
    "            A[i,j]=1\n",
    "        else:\n",
    "            pass\n",
    "\n",
    "########################################\n",
    "\n",
    "fig, ax = plt.subplots(figsize=(10, 10))\n",
    "ax.pcolormesh(x,y,A, edgecolors='k', linewidths=2)\n",
    "plt.grid()"
   ]
  },
  {
   "cell_type": "markdown",
   "metadata": {},
   "source": [
    "# Formed Half-spaces"
   ]
  },
  {
   "cell_type": "code",
   "execution_count": null,
   "metadata": {},
   "outputs": [
    {
     "data": {
      "image/png": "[encoded data removed]",
      "text/plain": [
       "<Figure size 720x720 with 1 Axes>"
      ]
     },
     "metadata": {
      "needs_background": "light"
     },
     "output_type": "display_data"
    }
   ],
   "source": [
    "#Compute position indices\n",
    "Sx = 1 #physical size along x axis\n",
    "Sy = 1 #physical size along y axis\n",
    "\n",
    "Nx= 20 #number of cell along x\n",
    "Ny= 20 #number of cell along y\n",
    "\n",
    "dx=Sx/Nx;\n",
    "# xa=np.linspace(0,Nx-1,Nx)*dx\n",
    "# xa= xa - np.mean(xa)\n",
    "x=np.linspace(-0.5,0.5,Nx+1)*Sx\n",
    "\n",
    "dy=Sy/Ny;\n",
    "# ya=np.linspace(0,Ny-1,Ny)*dy\n",
    "# ya= ya - np.mean(ya)\n",
    "y=np.linspace(-0.5,0.5,Ny+1)*Sy\n",
    "\n",
    "####surface#####\n",
    "ya= 0.2 +0.1*np.cos(4*np.pi*xa/Sx)\n",
    "\n",
    "B=np.zeros((Nx,Ny))\n",
    "for i in range(Nx):\n",
    "    ny= round((ya[i]+ Sy/2)/dy)\n",
    "    for j in range(ny):\n",
    "              B[i,j]=1\n",
    "                  \n",
    "fig, ax = plt.subplots(figsize=(10, 10))\n",
    "ax.pcolormesh(x,y,B.T, edgecolors='k', linewidths=2)\n",
    "plt.grid()\n",
    "\n"
   ]
  },
  {
   "cell_type": "code",
   "execution_count": null,
   "metadata": {},
   "outputs": [],
   "source": [
    "# https://youtu.be/ZUd8fuqbeCo?t=2390"
   ]
  },
  {
   "cell_type": "markdown",
   "metadata": {},
   "source": [
    "# Linear half space LHS"
   ]
  },
  {
   "cell_type": "code",
   "execution_count": null,
   "metadata": {},
   "outputs": [],
   "source": [
    "# 0=(y2-y1)-m(x2-x1) #(line equation,)\n",
    "# # half space\n",
    "# (y2-y1)-m(x2-x1)>0"
   ]
  },
  {
   "cell_type": "code",
   "execution_count": null,
   "metadata": {},
   "outputs": [
    {
     "data": {
      "image/png": "[encoded data removed]",
      "text/plain": [
       "<Figure size 720x720 with 1 Axes>"
      ]
     },
     "metadata": {
      "needs_background": "light"
     },
     "output_type": "display_data"
    }
   ],
   "source": [
    "#Compute position indices\n",
    "Sx = 1 #physical size along x axis\n",
    "Sy = 1 #physical size along y axis\n",
    "\n",
    "Nx= 20 #number of cell along x\n",
    "Ny= 20 #number of cell along y\n",
    "\n",
    "dx=Sx/Nx;\n",
    "xa=np.linspace(0,Nx-1,Nx)*dx\n",
    "xa= xa - np.mean(xa)\n",
    "x=np.linspace(-0.5,0.5,Nx+1)*Sx\n",
    "\n",
    "dy=Sy/Ny;\n",
    "ya=np.linspace(0,Ny-1,Ny)*dy\n",
    "ya= ya - np.mean(ya)\n",
    "# ya= 0.2 +0.1*np.cos(4*np.pi*xa/Sx)\n",
    "y=np.linspace(-0.5,0.5,Ny+1)*Sy\n",
    "\n",
    "x1=-0.50\n",
    "y1=0.250\n",
    "x2=0.50\n",
    "y2=-0.250\n",
    "\n",
    "m=(y2-y1)/(x2-x1)\n",
    "\n",
    "\n",
    "A=np.zeros((Nx,Ny))\n",
    "for i in range(Nx):\n",
    "    ny= round((ya[i]+ Sy/2)/dy)\n",
    "    for j in range(ny,Ny):\n",
    "        if (Y[i,j]-y1)-m*(X[i,j]-x1)>0:\n",
    "             A[i,j]=1\n",
    "        else:\n",
    "            pass\n",
    "        \n",
    "\n",
    "\n",
    "fig, ax = plt.subplots(figsize=(10, 10))\n",
    "ax.pcolormesh(x,y,A.T, edgecolors='k', linewidths=2)\n",
    "plt.grid()"
   ]
  },
  {
   "cell_type": "markdown",
   "metadata": {},
   "source": [
    "# LHS and FHs"
   ]
  },
  {
   "cell_type": "code",
   "execution_count": null,
   "metadata": {},
   "outputs": [
    {
     "data": {
      "image/png": "[encoded data removed]",
      "text/plain": [
       "<Figure size 720x720 with 1 Axes>"
      ]
     },
     "metadata": {
      "needs_background": "light"
     },
     "output_type": "display_data"
    }
   ],
   "source": [
    "#Compute position indices\n",
    "Sx = 1 #physical size along x axis\n",
    "Sy = 1 #physical size along y axis\n",
    "\n",
    "Nx= 20 #number of cell along x\n",
    "Ny= 20 #number of cell along y\n",
    "\n",
    "dx=Sx/Nx;\n",
    "xa=np.linspace(0,Nx-1,Nx)*dx\n",
    "xa= xa - np.mean(xa)\n",
    "x=np.linspace(-0.5,0.5,Nx+1)*Sx\n",
    "\n",
    "dy=Sy/Ny;\n",
    "ya=np.linspace(0,Ny-1,Ny)*dy\n",
    "ya= ya - np.mean(ya)\n",
    "y=np.linspace(-0.5,0.5,Ny+1)*Sy\n",
    "\n",
    "x1=-0.50\n",
    "y1=0.250\n",
    "x2=0.50\n",
    "y2=-0.250\n",
    "\n",
    "m=(y2-y1)/(x2-x1)\n",
    "\n",
    "\n",
    "LHS=np.zeros((Nx,Ny))\n",
    "for i in range(Nx):\n",
    "    for j in range(Ny):\n",
    "        if (Y[i,j]-y1)-m*(X[i,j]-x1)>0:\n",
    "             LHS[i,j]=1\n",
    "        else:\n",
    "            pass\n",
    "        \n",
    "# ya=- 0.2 +0.1*np.cos(4*np.pi*xa/Sx)\n",
    "\n",
    "FHS=np.zeros((Nx,Ny))\n",
    "for i in range(Nx):\n",
    "    ny= round((ya[i]+ Sy/2)/dy)\n",
    "    for j in range(ny):\n",
    "              FHS[i,j]=1\n",
    "\n",
    "fig, ax = plt.subplots(figsize=(10, 10))\n",
    "# ax.pcolormesh(x,y,np.dot(LHS,FHS).T, edgecolors='k', linewidths=2)\n",
    "ax.pcolormesh(x,y,LHS.T*FHS, edgecolors='k', linewidths=2)\n",
    "# ax.pcolormesh(x,y,(FHS).T, edgecolors='k', linewidths=2)\n",
    "# ax.pcolormesh(x,y,(LHS).T, edgecolors='k', linewidths=2)LHS.T*FHS\n",
    "plt.grid()\n",
    "\n",
    "er1=1.0\n",
    "er2=2.4\n",
    "\n",
    "A=er1+ (er2-er1)*A\n",
    "\n",
    "# j'ai pas réussi https://youtu.be/ZUd8fuqbeCo?t=2603"
   ]
  },
  {
   "cell_type": "code",
   "execution_count": null,
   "metadata": {},
   "outputs": [
    {
     "name": "stdout",
     "output_type": "stream",
     "text": [
      "[[0. 0. 0. 0. 0. 0. 0. 0. 0. 0. 0. 0. 0. 0. 0. 0. 0. 0. 0. 0.]\n",
      " [0. 0. 0. 0. 0. 0. 0. 0. 0. 0. 0. 0. 0. 0. 0. 0. 0. 0. 0. 0.]\n",
      " [0. 0. 0. 0. 0. 0. 0. 0. 0. 0. 0. 0. 0. 0. 0. 0. 0. 0. 0. 0.]\n",
      " [0. 0. 0. 0. 0. 0. 0. 0. 0. 0. 0. 0. 0. 0. 0. 0. 0. 0. 0. 0.]\n",
      " [0. 0. 0. 0. 0. 0. 0. 0. 0. 0. 0. 0. 0. 0. 0. 0. 0. 0. 0. 0.]\n",
      " [0. 0. 0. 0. 0. 0. 0. 0. 0. 0. 0. 0. 0. 0. 0. 0. 0. 0. 0. 0.]\n",
      " [0. 0. 0. 0. 0. 0. 0. 0. 0. 0. 0. 0. 0. 0. 0. 0. 0. 0. 0. 0.]\n",
      " [0. 0. 0. 0. 0. 0. 0. 0. 0. 0. 0. 0. 0. 0. 0. 0. 0. 0. 0. 0.]\n",
      " [0. 0. 0. 0. 0. 0. 0. 0. 0. 0. 0. 0. 0. 0. 0. 0. 0. 0. 0. 0.]\n",
      " [0. 0. 0. 0. 0. 0. 0. 0. 0. 0. 0. 0. 0. 0. 0. 0. 0. 0. 0. 0.]\n",
      " [0. 0. 0. 0. 0. 0. 0. 0. 0. 1. 0. 0. 0. 0. 0. 0. 0. 0. 0. 0.]\n",
      " [0. 0. 0. 0. 0. 0. 0. 1. 1. 1. 1. 1. 0. 0. 0. 0. 0. 0. 0. 0.]\n",
      " [0. 0. 0. 0. 0. 1. 1. 1. 1. 1. 1. 1. 1. 0. 0. 0. 0. 0. 0. 0.]\n",
      " [0. 0. 0. 1. 1. 1. 1. 1. 1. 1. 1. 1. 1. 1. 0. 0. 0. 0. 0. 0.]\n",
      " [0. 1. 1. 1. 1. 1. 1. 1. 1. 1. 1. 1. 1. 1. 1. 0. 0. 0. 0. 0.]\n",
      " [1. 1. 1. 1. 1. 1. 1. 1. 1. 1. 1. 1. 1. 1. 1. 1. 0. 0. 0. 0.]\n",
      " [1. 1. 1. 1. 1. 1. 1. 1. 1. 1. 1. 1. 1. 1. 1. 1. 0. 0. 0. 0.]\n",
      " [1. 1. 1. 1. 1. 1. 1. 1. 1. 1. 1. 1. 1. 1. 1. 1. 1. 1. 0. 0.]\n",
      " [1. 1. 1. 1. 1. 1. 1. 1. 1. 1. 1. 1. 1. 1. 1. 1. 1. 1. 0. 0.]\n",
      " [1. 1. 1. 1. 1. 1. 1. 1. 1. 1. 1. 1. 1. 1. 1. 1. 1. 1. 1. 1.]]\n"
     ]
    },
    {
     "data": {
      "text/plain": [
       "<matplotlib.collections.QuadMesh at 0x20cabedd2b0>"
      ]
     },
     "execution_count": 9,
     "metadata": {},
     "output_type": "execute_result"
    },
    {
     "data": {
      "image/png": "[encoded data removed]",
      "text/plain": [
       "<Figure size 720x720 with 1 Axes>"
      ]
     },
     "metadata": {
      "needs_background": "light"
     },
     "output_type": "display_data"
    }
   ],
   "source": [
    "# print(FHS.T)\n",
    "print(LHS.T*FHS)\n",
    "fig, ax = plt.subplots(figsize=(10, 10))\n",
    "ax.pcolormesh(x,y,A.T, edgecolors='k', linewidths=2)\n",
    "# cax = divider.append_axes(\"right\", size=\"5%\", pad=0.05):\n",
    "# plt.colorbar(label=\"Like/Dislike Ratio\", orientation=\"horizontal\")"
   ]
  },
  {
   "cell_type": "markdown",
   "metadata": {},
   "source": [
    "# vertice technique"
   ]
  },
  {
   "cell_type": "code",
   "execution_count": null,
   "metadata": {},
   "outputs": [],
   "source": [
    "# Lecture 4 FDTD: https://youtu.be/TbzFef5gUms?"
   ]
  },
  {
   "cell_type": "markdown",
   "metadata": {},
   "source": [
    "# Mxl equation"
   ]
  },
  {
   "cell_type": "code",
   "execution_count": null,
   "metadata": {},
   "outputs": [],
   "source": [
    "# nabla_vec=\n",
    "# D_vec=np.zeros([3,1])# electric displacement\n",
    "# H_vec=np.zeros([3,1])#magnectic field\n",
    "# B_vec=np.zeros([3,1])#magnectic displacement field\n",
    "\n",
    "\n",
    "# div.B_vec=0 maxwell flux\n",
    "# div.D=eps  mxwelle gauss\n",
    "# rot H_vec_vec/dt.D_vec maxwelle ampère\n",
    "# rot E_vecd/dt B_vec   maxwelle faraday"
   ]
  },
  {
   "cell_type": "markdown",
   "metadata": {},
   "source": [
    "# constitutive relation"
   ]
  },
  {
   "cell_type": "code",
   "execution_count": null,
   "metadata": {},
   "outputs": [],
   "source": [
    "# electric displacement\n",
    "# D_vec(t)=eps.E_vec(t) #linear non-dispersive material\n",
    "# D_vec(t)=eps*E_vec(t) #convolution for dispersive matérial\n",
    "# D_vec(t)=eps.E_vec(t) #eps is a tensor for anisotropic materia\n",
    "# D_vec(t)=eps0(Xi1.E_vec(t)+...+Xin.E_vec(t)n) #non linear material\n",
    "\n",
    "# B/mu = H"
   ]
  },
  {
   "cell_type": "markdown",
   "metadata": {},
   "source": [
    "# boundaries conditions vient de la formulation fonction green"
   ]
  },
  {
   "cell_type": "code",
   "execution_count": null,
   "metadata": {},
   "outputs": [],
   "source": [
    "# E1T=E2T\n",
    "# n1**2.E1//=n2**2.E2//\n",
    "\n",
    "# B1T=B2T\n",
    "# mu1.B1//=mu2.B2//\n",
    "\n",
    "#eps=eps0.epsr\n",
    "#mu=mu0.mur\n",
    "# mur.espr=n**2\n",
    "# mu0*eps0=1/c**2"
   ]
  },
  {
   "cell_type": "markdown",
   "metadata": {},
   "source": [
    "# matérial impédance"
   ]
  },
  {
   "cell_type": "code",
   "execution_count": null,
   "metadata": {},
   "outputs": [],
   "source": [
    "# https://youtu.be/TbzFef5gUms?t=1854\n",
    "# néta=néta0*np.sqrt(mur/espr)\n",
    "# néta0=376.730314"
   ]
  },
  {
   "cell_type": "code",
   "execution_count": null,
   "metadata": {},
   "outputs": [],
   "source": [
    "# dispersion equation\n",
    "# c_i=omega/k_i=n_i.omega/k0=n_i.lbd0.f=n_i.c0\n",
    "\n",
    "# eps0=8.85*10^-12 F/m\n",
    "# mu0=1.257*10^-6 H/m"
   ]
  },
  {
   "cell_type": "markdown",
   "metadata": {},
   "source": [
    "for the first derivative we substitute the expression d/dt by:\n",
    "   ( f(x+Δx)-f(x))/Δx + f(x)=0 by ( f(x+Δx)-f(x))/Δx + ( f(x+Δx)+f(x))/2=0"
   ]
  },
  {
   "cell_type": "markdown",
   "metadata": {},
   "source": [
    "rot H_vec(t)= vec/dt.D_vec ->rot H_vec(t+Δt)= eps.(E_vec(t+Δt)-E_vec(t))/Δt#maxwelle ampère\n",
    "rot E_vec(t) =-d/dt B_vec ->rot E_vec(t)= -mu.(H(t+Δt)-H(t-Δt))/Δt#maxwelle faraday\n",
    "\n",
    "https://youtu.be/TbzFef5gUms?t=2748"
   ]
  },
  {
   "cell_type": "markdown",
   "metadata": {},
   "source": [
    "loop{\n",
    "    meps=c0.Δt/esp mmu=c0.Δt/mu #update coefficient\n",
    "    E(t)=H(t+Δt/2)=0\n",
    "    H(t+Δt/2)=H(t-Δt/2)-(Δt/mu).rot(E(t))\n",
    "    E(t+Δt)=E(t)+(Δt/eps).rot(H(t+Δt/2))\n",
    "    }"
   ]
  },
  {
   "cell_type": "code",
   "execution_count": null,
   "metadata": {},
   "outputs": [],
   "source": [
    "# Lecture 5 FDTD: https://youtu.be/TbzFef5gUms?"
   ]
  },
  {
   "cell_type": "markdown",
   "metadata": {},
   "source": [
    "# Yee grid"
   ]
  },
  {
   "cell_type": "markdown",
   "metadata": {},
   "source": [
    "is a cell value of the discribed field (E or H)\n",
    "https://en.wikipedia.org/wiki/Finite-difference_time-domain_method\n",
    "\n",
    "1-Divergence-free\n",
    "\n",
    "2-Physical boundaries naturally satisfied\n",
    "\n",
    "3-elegant arrangement to Maxwell's curl equations\n",
    "\n",
    "les problèmes de yee cell (si la bordure des milieux passe à travers la yee cell) - https://youtu.be/sxv_L4rscL0?t=880\n",
    "\n",
    "https://youtu.be/sxv_L4rscL0?t=1222\n",
    "\n",
    "\n"
   ]
  },
  {
   "cell_type": "code",
   "execution_count": null,
   "metadata": {},
   "outputs": [],
   "source": [
    "# Normalisation des vecteurs champs\n",
    "\n",
    "# H_tild=n.sqrt(mu0/eps0)H"
   ]
  },
  {
   "cell_type": "code",
   "execution_count": null,
   "metadata": {},
   "outputs": [],
   "source": [
    "# for i in range():\n",
    "#     for j in range():\n",
    "#         for k in range(): #pour se balader suivant les "
   ]
  },
  {
   "cell_type": "markdown",
   "metadata": {},
   "source": [
    "# FDTD 1D"
   ]
  },
  {
   "cell_type": "code",
   "execution_count": null,
   "metadata": {},
   "outputs": [
    {
     "name": "stderr",
     "output_type": "stream",
     "text": [
      "<ipython-input-21-20d1fcad48a6>:37: RuntimeWarning: overflow encountered in double_scalars\n",
      "  Ey[0]=Ey[0]+mEy[0]*(Hx_tild[0]-0)/dz\n",
      "<ipython-input-21-20d1fcad48a6>:37: RuntimeWarning: invalid value encountered in double_scalars\n",
      "  Ey[0]=Ey[0]+mEy[0]*(Hx_tild[0]-0)/dz\n"
     ]
    }
   ],
   "source": [
    "# Exemple 1D\n",
    "import numpy as np\n",
    "import matplotlib.pyplot as plt\n",
    "\n",
    "#Cells Number\n",
    "Nz=20\n",
    "c0=299792458\n",
    "dt=1\n",
    "dz=1\n",
    "\n",
    "#Initialization materials to free space\n",
    "Er=np.ones(Nz)\n",
    "urr=np.ones(Nz)\n",
    "\n",
    "#compute update coefficients\n",
    "mEy= c0*dt/Er\n",
    "mHx= c0*dt/urr\n",
    "\n",
    "#initialize field\n",
    "Hx_tild=np.zeros(Nz)\n",
    "Ey=np.zeros(Nz) #test nul\n",
    "#on a besoin d'une soft source\n",
    "Hx_tild=np.ones(Nz)\n",
    "Ey=np.ones(Nz)\n",
    "\n",
    "#FDTD LOOP\n",
    "step=50\n",
    "for t in range(step):\n",
    "    #https://youtu.be/hNN7EtZsJuU?t=1235\n",
    "    #update H from E\n",
    "    for nz in range(Nz-2):\n",
    "        Hx_tild[nz]=Hx_tild[nz]+mHx[nz]*(Ey[nz+1]-Ey[nz])/dz\n",
    "    Hx_tild[Nz-1]=Hx_tild[Nz-1]+mHx[Nz-1]*(0-Ey[Nz-1])/dz #Diriclet condition = forced equation to be 0\n",
    "#         print(Hx_tild)\n",
    "        \n",
    "    #update E from H\n",
    "    Ey[0]=Ey[0]+mEy[0]*(Hx_tild[0]-0)/dz\n",
    "    for nz in range(2,Nz-1):\n",
    "        Ey[nz]=Ey[nz]+mEy[nz]*(Hx_tild[nz]-Hx_tild[nz-1])/dz\n",
    "    "
   ]
  },
  {
   "cell_type": "markdown",
   "metadata": {},
   "source": [
    "# Min dimension"
   ]
  },
  {
   "cell_type": "raw",
   "metadata": {},
   "source": [
    "the grid need to be the smallest possible considering the minimum feature size of the geometric figure as dx=4*dmin => Δx=dmin/Nd\n",
    "\n",
    "Adjust the grid resolution to fit this dimension in grid EXACTELY\n",
    "https://youtu.be/hNN7EtZsJuU?t=1508\n",
    "\n",
    "import math as mt\n",
    "Mx=mt.ceil(dx/Δx)"
   ]
  },
  {
   "cell_type": "markdown",
   "metadata": {},
   "source": [
    "# Courant stability"
   ]
  },
  {
   "cell_type": "markdown",
   "metadata": {},
   "source": [
    "https://youtu.be/hNN7EtZsJuU?t=1576\n",
    "Numerical distance covered in one time step Δz\n",
    "Physical distance covered in one time step: c0Δt/n\n",
    "\n",
    "Δz>c0Δt/n =>to make sure that a physical wave would not propagate farther than a single unit celle in one step\n",
    "Donc\n",
    "        Δt<Δz/c0 if the optical index n is n=1\n",
    "        \n",
    "In greater dimension: 3D Δt<1/c0 *1/np.sqrt(1/Δx**2+1/Δy**2+1/Δz**2)\n",
    "this stability condition is more restrictive on smaller dimension Δ_min\n",
    "\n",
    "Generalization for any case is: Δt<n_min * Δmin /2*c0\n",
    "            for grid filled with dielectric and travels slower everywhere\n",
    "            \n",
    "            for dispersive material with refractive index less than 1\n",
    "            "
   ]
  },
  {
   "cell_type": "markdown",
   "metadata": {},
   "source": [
    "# Perfect 1D Boundary condition"
   ]
  },
  {
   "cell_type": "markdown",
   "metadata": {},
   "source": [
    "https://youtu.be/hNN7EtZsJuU?t=1610\n",
    "https://youtu.be/hNN7EtZsJuU?t=1794"
   ]
  },
  {
   "cell_type": "markdown",
   "metadata": {},
   "source": [
    "# Sources"
   ]
  },
  {
   "cell_type": "markdown",
   "metadata": {},
   "source": [
    "https://youtu.be/hNN7EtZsJuU?t=1969\n",
    "\n",
    "Gaussian pulse:          <=TF^-1=\n",
    "g(t)=np.exp(-t**2/tau**2) ===TF=> G(f)=1/(np.sqrt(np.pi)*B)*np.exp(-f**2/B**2)\n",
    "\n",
    "with B= 1/(n.pi*tau)= f_max  ==<=> tau =~0.5/f_max\n",
    "\n",
    "time delay for the Epulse t0>=6tau\n",
    "                            "
   ]
  },
  {
   "cell_type": "markdown",
   "metadata": {},
   "source": [
    "simple Hard source : Hxk(t+Δt/2)=ghk & Eyk(t+Δt/2)=gek\n",
    "    prefered for 1 sens of propagation\n",
    "\n",
    "simple Soft source: Hxk(t+Δt/2)=Hxk(t+Δt/2)+ghk & Hxk(t+Δt/2)=Hxk(t+Δt/2)+gek\n",
    "    the most realistic for 1 direction of propagation\n",
    "    \n",
    "    comment est stocké l'info de la simulation https://youtu.be/hNN7EtZsJuU?t=2578\n",
    "    \n",
    "    conseil sur le nombre d'itération:\n",
    "    https://youtu.be/hNN7EtZsJuU?t=2609\n",
    "    \n",
    "time it takes to a wave to cross the simulation\n",
    "tprop=nmax*Nz*Δz/c0\n",
    "\n",
    "and the entire pulse dura T=12T\n",
    "\n",
    "temps totatl de simulationT=12tu+5tprop"
   ]
  },
  {
   "cell_type": "markdown",
   "metadata": {},
   "source": [
    "https://youtu.be/hNN7EtZsJuU?t=2911 sum-up\n",
    "new fdtd code"
   ]
  },
  {
   "cell_type": "code",
   "execution_count": null,
   "metadata": {},
   "outputs": [],
   "source": [
    "\n",
    "\n",
    "\n",
    "\n",
    "#compute default grid resolution\n",
    "lbd=np.linspace(480,780,500) #nm\n",
    "nmax=1.5\n",
    "nRES=10\n",
    "dz1=min(lbd)/nmax/nRES\n",
    "ndRES=1\n",
    "dmin=1\n",
    "dz2=dmin/ndRES\n",
    "dz=min(dz1,dz2)\n",
    "\n",
    "dc=1\n",
    "# snap grid to critical dimensions\n",
    "N=mt.ceil(dc/dz)\n",
    "\n",
    "import numpy as np\n",
    "import matplotlib.pyplot as plt\n",
    "\n",
    "#Cells Number\n",
    "Nz=20\n",
    "c0=299792458\n",
    "dt=1\n",
    "# dz=1\n",
    "\n",
    "#Compute time step\n",
    "Dt=n*Dz/(2*c0)\n",
    "\n",
    "#Compute source\n",
    "tau=0.5/fmax\n",
    "g_t=np.exp(-((t-t0)/tau)**2) #gaussian source\n",
    "\n",
    "\n",
    "#Initialization materials to free space\n",
    "Er=np.ones(Nz)\n",
    "urr=np.ones(Nz)\n",
    "\n",
    "#compute update coefficients\n",
    "mEy= c0*dt/Er\n",
    "mHx= c0*dt/urr\n",
    "\n",
    "#initialize field\n",
    "Hx_tild=np.zeros(Nz)\n",
    "Ey=np.zeros(Nz) #test nul\n",
    "#on a besoin d'une soft source\n",
    "Hx_tild=np.ones(Nz)\n",
    "Ey=np.ones(Nz)\n",
    "\n",
    "#FDTD LOOP\n",
    "step=50\n",
    "for t in range(step):\n",
    "    #https://youtu.be/hNN7EtZsJuU?t=1235\n",
    "    #update H from E\n",
    "    for nz in range(Nz-2):\n",
    "        Hx_tild[nz]=Hx_tild[nz]+mHx[nz]*(Ey[nz+1]-Ey[nz])/dz\n",
    "    Hx_tild[Nz-1]=Hx_tild[Nz-1]+mHx[Nz-1]*(0-Ey[Nz-1])/dz #Diriclet condition = forced equation to be 0\n",
    "    H3=H2\n",
    "    H2=H1\n",
    "    H1=Hx_tild[0]\n",
    "        \n",
    "    #update E from H\n",
    "    Ey[0]=Ey[0]+mEy[0]*(Hx_tild[0]-0)/dz\n",
    "    for nz in range(2,Nz-1):\n",
    "        Ey[nz]=Ey[nz]+mEy[nz]*(Hx_tild[nz]-Hx_tild[nz-1])/dz\n",
    "        \n",
    "    E3=E2\n",
    "    E2=E1\n",
    "    E1=Ey[0]"
   ]
  },
  {
   "cell_type": "markdown",
   "metadata": {},
   "source": [
    "Lecture 7: https://www.youtube.com/watch?v=H5Qq3JGwk1I\n",
    "https://youtu.be/H5Qq3JGwk1I?t=639"
   ]
  },
  {
   "cell_type": "code",
   "execution_count": null,
   "metadata": {},
   "outputs": [],
   "source": []
  },
  {
   "cell_type": "code",
   "execution_count": null,
   "metadata": {},
   "outputs": [],
   "source": []
  },
  {
   "cell_type": "code",
   "execution_count": null,
   "metadata": {},
   "outputs": [],
   "source": []
  },
  {
   "cell_type": "code",
   "execution_count": null,
   "metadata": {},
   "outputs": [],
   "source": []
  },
  {
   "cell_type": "code",
   "execution_count": null,
   "metadata": {},
   "outputs": [],
   "source": [
    "# x=np.zeros(10)\n",
    "# [x for i in range(9)]"
   ]
  },
  {
   "cell_type": "code",
   "execution_count": null,
   "metadata": {},
   "outputs": [
    {
     "name": "stdout",
     "output_type": "stream",
     "text": [
      "[0.  0.1 0.2 0.3 0.4 0.5 0.6 0.7 0.8 0.9]\n"
     ]
    },
    {
     "data": {
      "text/plain": [
       "array([0., 1., 2., 3., 4., 5., 6., 7., 8., 9.])"
      ]
     },
     "execution_count": 139,
     "metadata": {},
     "output_type": "execute_result"
    }
   ],
   "source": [
    "xa=np.arange(Nx)*dx\n",
    "print(xa)\n",
    "xa= np.linspace(0,Nx-1,Nx)*Sx\n",
    "xa"
   ]
  },
  {
   "cell_type": "code",
   "execution_count": null,
   "metadata": {},
   "outputs": [
    {
     "name": "stdout",
     "output_type": "stream",
     "text": [
      "[0.  0.1 0.2 0.3 0.4 0.5 0.6 0.7 0.8 0.9]\n",
      "[0.  0.1 0.2 0.3 0.4 0.5 0.6 0.7 0.8 0.9]\n"
     ]
    }
   ],
   "source": [
    "print(np.linspace(0,Nx-1,Nx)*dx)\n",
    "print(np.arange(Nx)*dx)"
   ]
  },
  {
   "cell_type": "code",
   "execution_count": null,
   "metadata": {},
   "outputs": [
    {
     "ename": "SyntaxError",
     "evalue": "invalid syntax (<ipython-input-57-52c0f1f6ce32>, line 1)",
     "output_type": "error",
     "traceback": [
      "\u001b[1;36m  File \u001b[1;32m\"<ipython-input-57-52c0f1f6ce32>\"\u001b[1;36m, line \u001b[1;32m1\u001b[0m\n\u001b[1;33m    [A=1 if (X**2+Y**2)<=r**2]\u001b[0m\n\u001b[1;37m      ^\u001b[0m\n\u001b[1;31mSyntaxError\u001b[0m\u001b[1;31m:\u001b[0m invalid syntax\n"
     ]
    }
   ],
   "source": [
    "[A=1 if (X**2+Y**2)<=r**2]"
   ]
  }
 ],
 "metadata": {
  "kernelspec": {
   "display_name": "Python 3",
   "language": "python",
   "name": "python3"
  },
  "language_info": {
   "codemirror_mode": {
    "name": "ipython",
    "version": 3
   },
   "file_extension": ".py",
   "mimetype": "text/x-python",
   "name": "python",
   "nbconvert_exporter": "python",
   "pygments_lexer": "ipython3",
   "version": "3.12.0"
  }
 },
 "nbformat": 4,
 "nbformat_minor": 4
}
